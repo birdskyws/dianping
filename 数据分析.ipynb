{
 "cells": [
  {
   "cell_type": "code",
   "execution_count": 1,
   "metadata": {},
   "outputs": [],
   "source": [
    "from bs4 import BeautifulSoup\n",
    "import numpy as np\n",
    "import pandas as pd\n",
    "csv = []\n",
    "j = 0\n",
    "for i in range(1,11):\n",
    "    filepath = \"月子中心/北京月子中心\"+str(i)+\".htm\" \n",
    "    #print(filepath)\n",
    "    file = open(filepath,\"r\")\n",
    "    text = file.read()\n",
    "    soup = BeautifulSoup(text, \"html.parser\")\n",
    "    shops = soup.select('#shop-all-list ul li')\n",
    "    #print(shops)\n",
    "    for shop in shops:\n",
    "        j = j+1\n",
    "        #print(shop)\n",
    "        item = []\n",
    "        name = shop.select(\"h4\")[0].get_text()\n",
    "        item.append(name)\n",
    "        if(len(shop.select(\"a.review-num b\"))>0):\n",
    "            review = shop.select(\"a.review-num b\")[0].get_text()\n",
    "            item.append(int(review))\n",
    "        else:\n",
    "            item.append(None)\n",
    "        if(len(shop.select(\"a.mean-price b\"))>0):\n",
    "            price = shop.select(\"a.mean-price b\")[0].get_text()\n",
    "            item.append(int(price.strip(\"￥\")))\n",
    "        else:\n",
    "            item.append(None)\n",
    "        tag = shop.select(\".tag-addr a span.tag\")[0].get_text()\n",
    "        item.append(tag)\n",
    "        location = shop.select(\".tag-addr a span.tag\")[1].get_text()\n",
    "        item.append(location)\n",
    "        if(len(shop.select(\"div.svr-info a\"))>0):\n",
    "            promotion = shop.select(\"div.svr-info a\")[0].get_text()\n",
    "            item.append(promotion)\n",
    "        else:\n",
    "            item.append(None)\n",
    "        csv.append(item)"
   ]
  },
  {
   "cell_type": "code",
   "execution_count": 2,
   "metadata": {},
   "outputs": [],
   "source": [
    "df = pd.DataFrame(csv,columns=['名称','评论','人均消费','标签','地点','团购'])"
   ]
  },
  {
   "cell_type": "code",
   "execution_count": 3,
   "metadata": {},
   "outputs": [],
   "source": [
    "df.to_csv(\"yuezi.csv\")"
   ]
  },
  {
   "cell_type": "code",
   "execution_count": 4,
   "metadata": {},
   "outputs": [],
   "source": [
    "import matplotlib.pyplot as plt"
   ]
  },
  {
   "cell_type": "code",
   "execution_count": 5,
   "metadata": {},
   "outputs": [
    {
     "name": "stdout",
     "output_type": "stream",
     "text": [
      "<class 'pandas.core.frame.DataFrame'>\n",
      "RangeIndex: 161 entries, 0 to 160\n",
      "Data columns (total 6 columns):\n",
      "名称      161 non-null object\n",
      "评论      131 non-null float64\n",
      "人均消费    87 non-null float64\n",
      "标签      161 non-null object\n",
      "地点      161 non-null object\n",
      "团购      63 non-null object\n",
      "dtypes: float64(2), object(4)\n",
      "memory usage: 7.6+ KB\n"
     ]
    }
   ],
   "source": [
    "df.info()"
   ]
  },
  {
   "cell_type": "code",
   "execution_count": 6,
   "metadata": {},
   "outputs": [
    {
     "data": {
      "image/png": "[encoded data removed]",
      "text/plain": [
       "<matplotlib.figure.Figure at 0x1078a55f8>"
      ]
     },
     "metadata": {},
     "output_type": "display_data"
    }
   ],
   "source": [
    "priceSt=pd.DataFrame({u'有消费记录':87, u'没有消费记录':74},index=[0])\n",
    "priceSt.plot(kind='bar')\n",
    "plt.title(u\"各乘客等级的获救情况\")\n",
    "plt.xlabel(u\"乘客等级\")\n",
    "plt.ylabel(u\"人数\")\n",
    "plt.show()"
   ]
  },
  {
   "cell_type": "code",
   "execution_count": 7,
   "metadata": {},
   "outputs": [
    {
     "name": "stdout",
     "output_type": "stream",
     "text": [
      "人均消费大于3万元的月子中心有 53\n",
      "5万以下     14\n",
      "6万       10\n",
      "7万       10\n",
      "8万        2\n",
      "9万        3\n",
      "10万       2\n",
      "11万       3\n",
      "12万       3\n",
      "15万       4\n",
      "20万       2\n",
      "20万以上     0\n",
      "Name: 人均消费, dtype: int64\n"
     ]
    },
    {
     "data": {
      "text/plain": [
       "<matplotlib.axes._subplots.AxesSubplot at 0x10ec58ac8>"
      ]
     },
     "execution_count": 7,
     "metadata": {},
     "output_type": "execute_result"
    },
    {
     "data": {
      "image/png": "[encoded data removed]",
      "text/plain": [
       "<matplotlib.figure.Figure at 0x10ed3e160>"
      ]
     },
     "metadata": {},
     "output_type": "display_data"
    }
   ],
   "source": [
    "#price = df['人均消费'][df['人均消费'].notnull()]\n",
    "price = df['人均消费'][df['人均消费']>30000]\n",
    "print(\"人均消费大于3万元的月子中心有\",price.shape[0])\n",
    "price_bucket = [0,50000,60000,70000,80000,90000,100000,110000,120000,150000,200000,800000]\n",
    "labels = ['5万以下','6万','7万','8万','9万','10万','11万','12万','15万','20万','20万以上']\n",
    "price_dis = pd.cut(price,bins=price_bucket,labels=labels)\n",
    "print(price_dis.value_counts().sort_index())\n",
    "price_dis.value_counts().sort_index().plot(kind='bar')\n",
    "#a_discretized_1 = pd.cut(a, bins=boundaries, labels=False) "
   ]
  },
  {
   "cell_type": "code",
   "execution_count": 8,
   "metadata": {},
   "outputs": [
    {
     "name": "stdout",
     "output_type": "stream",
     "text": [
      "望京          12\n",
      "亚运村         11\n",
      "通州区          6\n",
      "天通苑          5\n",
      "王府井/东单       5\n",
      "亦庄           5\n",
      "四季青          4\n",
      "酒仙桥          4\n",
      "大望路          4\n",
      "建外大街         4\n",
      "北苑家园         4\n",
      "亮马桥/三元桥      4\n",
      "双井           3\n",
      "朝阳公园/团结湖     3\n",
      "朝阳区          3\n",
      "国贸           3\n",
      "方庄           3\n",
      "百子湾          3\n",
      "双榆树          2\n",
      "昌平镇          2\n",
      "Name: 地点, dtype: int64\n"
     ]
    },
    {
     "data": {
      "text/plain": [
       "<matplotlib.axes._subplots.AxesSubplot at 0x10ee9a470>"
      ]
     },
     "execution_count": 8,
     "metadata": {},
     "output_type": "execute_result"
    },
    {
     "data": {
      "image/png": "[encoded data removed]",
      "text/plain": [
       "<matplotlib.figure.Figure at 0x10ed5cef0>"
      ]
     },
     "metadata": {},
     "output_type": "display_data"
    }
   ],
   "source": [
    "location = df['地点'][df['地点'].notnull()]\n",
    "print(location.value_counts()[0:20])\n",
    "location.value_counts()[0:20].plot(kind='bar')"
   ]
  },
  {
   "cell_type": "code",
   "execution_count": 9,
   "metadata": {},
   "outputs": [
    {
     "name": "stdout",
     "output_type": "stream",
     "text": [
      "总评论数： 16595.0\n"
     ]
    }
   ],
   "source": [
    "comments = df['评论'][df['评论'].notnull()]\n",
    "print(\"总评论数：\",np.sum(comments.values))"
   ]
  },
  {
   "cell_type": "code",
   "execution_count": 10,
   "metadata": {},
   "outputs": [
    {
     "name": "stdout",
     "output_type": "stream",
     "text": [
      "评论数排前十：                   名称      评论\n",
      "45     好孕妈妈月嫂(凯旋城总店)  1281.0\n",
      "20      禧月阁月子中心(望京店)  1247.0\n",
      "13           新妈妈月子中心  1027.0\n",
      "24      馨月汇月子中心(朝阳店)   873.0\n",
      "46           爱育华妇儿医院   570.0\n",
      "80       享月月嫂公司(朝阳店)   558.0\n",
      "67       佳翊会母婴护理服务中心   430.0\n",
      "6         莱弗月子会所Life   409.0\n",
      "60   亿婴宝•月嫂服务中心(朝阳店)   370.0\n",
      "31  爱玛家月子会所 十五年的月子会所   353.0\n"
     ]
    }
   ],
   "source": [
    "comments_sorted = df.sort_values(\"评论\",ascending=False)\n",
    "print(\"评论数排前十：\",comments_sorted[:10][['名称','评论']])"
   ]
  },
  {
   "cell_type": "code",
   "execution_count": 11,
   "metadata": {},
   "outputs": [
    {
     "data": {
      "text/plain": [
       "<matplotlib.axes._subplots.AxesSubplot at 0x10a3fc7b8>"
      ]
     },
     "execution_count": 11,
     "metadata": {},
     "output_type": "execute_result"
    },
    {
     "data": {
      "image/png": "[encoded data removed]",
      "text/plain": [
       "<matplotlib.figure.Figure at 0x10f5c2be0>"
      ]
     },
     "metadata": {},
     "output_type": "display_data"
    }
   ],
   "source": [
    "comment_location = df['评论'].groupby(df['地点']).sum().sort_values(ascending=False)[:10]\n",
    "comment_location.plot(kind=\"bar\")"
   ]
  },
  {
   "cell_type": "code",
   "execution_count": 12,
   "metadata": {},
   "outputs": [
    {
     "name": "stdout",
     "output_type": "stream",
     "text": [
      "月子会所     104\n",
      "月嫂        22\n",
      "产后恢复      11\n",
      "月子餐        5\n",
      "开奶催乳       5\n",
      "妇幼医院       5\n",
      "婴儿游泳       3\n",
      "月子护理       2\n",
      "榛果民宿       1\n",
      "私教工作室      1\n",
      "月子服务       1\n",
      "海外生子       1\n",
      "Name: 标签, dtype: int64\n"
     ]
    },
    {
     "data": {
      "text/plain": [
       "<matplotlib.axes._subplots.AxesSubplot at 0x10fad8828>"
      ]
     },
     "execution_count": 12,
     "metadata": {},
     "output_type": "execute_result"
    },
    {
     "data": {
      "image/png": "[encoded data removed]",
      "text/plain": [
       "<matplotlib.figure.Figure at 0x10faea128>"
      ]
     },
     "metadata": {},
     "output_type": "display_data"
    }
   ],
   "source": [
    "print(df['标签'].value_counts())\n",
    "df['标签'].value_counts().plot(kind='bar')"
   ]
  },
  {
   "cell_type": "code",
   "execution_count": 18,
   "metadata": {},
   "outputs": [
    {
     "name": "stderr",
     "output_type": "stream",
     "text": [
      "/anaconda3/lib/python3.6/site-packages/ipykernel_launcher.py:1: UserWarning: Boolean Series key will be reindexed to match DataFrame index.\n",
      "  \"\"\"Entry point for launching an IPython kernel.\n"
     ]
    },
    {
     "data": {
      "image/png": "[encoded data removed]",
      "text/plain": [
       "<matplotlib.figure.Figure at 0x1103bf320>"
      ]
     },
     "metadata": {},
     "output_type": "display_data"
    }
   ],
   "source": [
    "comments_price = df[df['评论'].notnull()][df['人均消费'].notnull()]\n",
    "comments = comments_price['评论']\n",
    "price = comments_price['人均消费']/10000\n",
    "plt.scatter(price,comments)\n",
    "plt.title(u\"人均消费金额 vs 评论数\")\n",
    "plt.xlabel(u\"人均消费金额\")\n",
    "plt.ylabel(u\"评论数\")\n",
    "plt.show()"
   ]
  },
  {
   "cell_type": "code",
   "execution_count": 13,
   "metadata": {},
   "outputs": [
    {
     "data": {
      "text/html": [
       "<div>\n",
       "<style scoped>\n",
       "    .dataframe tbody tr th:only-of-type {\n",
       "        vertical-align: middle;\n",
       "    }\n",
       "\n",
       "    .dataframe tbody tr th {\n",
       "        vertical-align: top;\n",
       "    }\n",
       "\n",
       "    .dataframe thead th {\n",
       "        text-align: right;\n",
       "    }\n",
       "</style>\n",
       "<table border=\"1\" class=\"dataframe\">\n",
       "  <thead>\n",
       "    <tr style=\"text-align: right;\">\n",
       "      <th></th>\n",
       "      <th>评论</th>\n",
       "      <th>人均消费</th>\n",
       "    </tr>\n",
       "  </thead>\n",
       "  <tbody>\n",
       "    <tr>\n",
       "      <th>count</th>\n",
       "      <td>131.000000</td>\n",
       "      <td>87.000000</td>\n",
       "    </tr>\n",
       "    <tr>\n",
       "      <th>mean</th>\n",
       "      <td>126.679389</td>\n",
       "      <td>48546.252874</td>\n",
       "    </tr>\n",
       "    <tr>\n",
       "      <th>std</th>\n",
       "      <td>210.274921</td>\n",
       "      <td>41696.278174</td>\n",
       "    </tr>\n",
       "    <tr>\n",
       "      <th>min</th>\n",
       "      <td>1.000000</td>\n",
       "      <td>98.000000</td>\n",
       "    </tr>\n",
       "    <tr>\n",
       "      <th>25%</th>\n",
       "      <td>14.500000</td>\n",
       "      <td>13468.500000</td>\n",
       "    </tr>\n",
       "    <tr>\n",
       "      <th>50%</th>\n",
       "      <td>55.000000</td>\n",
       "      <td>46319.000000</td>\n",
       "    </tr>\n",
       "    <tr>\n",
       "      <th>75%</th>\n",
       "      <td>149.500000</td>\n",
       "      <td>65226.000000</td>\n",
       "    </tr>\n",
       "    <tr>\n",
       "      <th>max</th>\n",
       "      <td>1281.000000</td>\n",
       "      <td>181341.000000</td>\n",
       "    </tr>\n",
       "  </tbody>\n",
       "</table>\n",
       "</div>"
      ],
      "text/plain": [
       "                评论           人均消费\n",
       "count   131.000000      87.000000\n",
       "mean    126.679389   48546.252874\n",
       "std     210.274921   41696.278174\n",
       "min       1.000000      98.000000\n",
       "25%      14.500000   13468.500000\n",
       "50%      55.000000   46319.000000\n",
       "75%     149.500000   65226.000000\n",
       "max    1281.000000  181341.000000"
      ]
     },
     "execution_count": 13,
     "metadata": {},
     "output_type": "execute_result"
    }
   ],
   "source": [
    "df.describe()"
   ]
  },
  {
   "cell_type": "code",
   "execution_count": null,
   "metadata": {},
   "outputs": [],
   "source": []
  }
 ],
 "metadata": {
  "kernelspec": {
   "display_name": "Python 3",
   "language": "python",
   "name": "python3"
  },
  "language_info": {
   "codemirror_mode": {
    "name": "ipython",
    "version": 3
   },
   "file_extension": ".py",
   "mimetype": "text/x-python",
   "name": "python",
   "nbconvert_exporter": "python",
   "pygments_lexer": "ipython3",
   "version": "3.6.4"
  }
 },
 "nbformat": 4,
 "nbformat_minor": 2
}
